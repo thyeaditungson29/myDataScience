{
  "nbformat": 4,
  "nbformat_minor": 0,
  "metadata": {
    "colab": {
      "name": "Tugas_KSDrev.ipynb",
      "provenance": [],
      "collapsed_sections": [],
      "authorship_tag": "ABX9TyPH6PRot/bGS3Ogtv4Zjtwt",
      "include_colab_link": true
    },
    "kernelspec": {
      "name": "python3",
      "display_name": "Python 3"
    },
    "language_info": {
      "name": "python"
    }
  },
  "cells": [
    {
      "cell_type": "markdown",
      "metadata": {
        "id": "view-in-github",
        "colab_type": "text"
      },
      "source": [
        "<a href=\"https://colab.research.google.com/github/thyeaditungson29/myDataScience/blob/main/Tugas_KSDrev.ipynb\" target=\"_parent\"><img src=\"https://colab.research.google.com/assets/colab-badge.svg\" alt=\"Open In Colab\"/></a>"
      ]
    },
    {
      "cell_type": "code",
      "execution_count": 504,
      "metadata": {
        "id": "kDDw_jzyj19v"
      },
      "outputs": [],
      "source": [
        "import os #paths to file\n",
        "import numpy as np # linear algebra\n",
        "import pandas as pd # data processing\n",
        "import warnings# warning filter\n",
        "import datetime as dt #for timestamp\n",
        "\n",
        "#ploting libraries\n",
        "import matplotlib.pyplot as plt \n",
        "import seaborn as sns\n",
        "\n",
        "#feature engineering\n",
        "from sklearn.preprocessing import OneHotEncoder\n",
        "from sklearn.preprocessing import LabelEncoder\n",
        "\n",
        "#train test split\n",
        "from sklearn.model_selection import train_test_split\n",
        "\n",
        "#metrics\n",
        "from sklearn.metrics import f1_score\n",
        "from sklearn.metrics import accuracy_score\n",
        "from sklearn.metrics import recall_score\n",
        "from sklearn.metrics import precision_score\n",
        "from sklearn.metrics import confusion_matrix\n",
        "from sklearn.model_selection import cross_validate\n",
        "\n",
        "#cross validation\n",
        "from sklearn.model_selection  import cross_val_score as CVS\n",
        "\n",
        "\n",
        "#ML models\n",
        "from xgboost import XGBClassifier\n",
        "from sklearn.ensemble import RandomForestClassifier\n",
        "from sklearn.linear_model import LogisticRegression\n",
        "\n",
        "#default theme and settings\n",
        "sns.set(context='notebook', style='darkgrid', palette='deep', font='sans-serif', font_scale=1, color_codes=False, rc=None)\n",
        "pd.set_option('display.max_columns', None)\n",
        "\n",
        "#warning handle\n",
        "warnings.filterwarnings(\"always\")\n",
        "warnings.filterwarnings(\"ignore\")\n",
        "\n",
        "\n",
        "# You can write up to 20GB to the current directory (/kaggle/working/) that gets preserved as output when you create a version using \"Save & Run All\" \n",
        "# You can also write temporary files to /kaggle/temp/, but they won't be saved outside of the current session"
      ]
    },
    {
      "cell_type": "code",
      "source": [
        "#Menghubungkan Google Colabs dengan Google Drive\n",
        "from google.colab import drive\n",
        "drive.mount('/content/drive')"
      ],
      "metadata": {
        "colab": {
          "base_uri": "https://localhost:8080/"
        },
        "id": "nzQ5zxBCkEwx",
        "outputId": "9b77698c-854a-4653-d2c8-327f25b878b0"
      },
      "execution_count": 505,
      "outputs": [
        {
          "output_type": "stream",
          "name": "stdout",
          "text": [
            "Drive already mounted at /content/drive; to attempt to forcibly remount, call drive.mount(\"/content/drive\", force_remount=True).\n"
          ]
        }
      ]
    },
    {
      "cell_type": "code",
      "source": [
        "#Definisi Path dari data di Google Drive dan Mount Data\n",
        "tr_path = \"/content/drive/MyDrive/train_proj.csv\"\n",
        "te_path = \"/content/drive/MyDrive/test_proj.csv\"\n",
        "tr_df = pd.read_csv(tr_path, index_col = 'id')\n",
        "te_df = pd.read_csv(te_path, index_col = 'id')"
      ],
      "metadata": {
        "id": "Pyv1Msb9kQgd"
      },
      "execution_count": 506,
      "outputs": []
    },
    {
      "cell_type": "code",
      "source": [
        "#Melihat 5 data pertama dari Data train\n",
        "tr_df.head(5)"
      ],
      "metadata": {
        "colab": {
          "base_uri": "https://localhost:8080/",
          "height": 301
        },
        "id": "rk3HoWL5kYMC",
        "outputId": "b5ff0afe-8dff-4b92-d579-e712ea37233b"
      },
      "execution_count": 507,
      "outputs": [
        {
          "output_type": "execute_result",
          "data": {
            "text/plain": [
              "    Gender  Age  Driving_License  Region_Code  Previously_Insured Vehicle_Age  \\\n",
              "id                                                                              \n",
              "1     Male   44                1         28.0                   0   > 2 Years   \n",
              "2     Male   76                1          3.0                   0    1-2 Year   \n",
              "3     Male   47                1         28.0                   0   > 2 Years   \n",
              "4     Male   21                1         11.0                   1    < 1 Year   \n",
              "5   Female   29                1         41.0                   1    < 1 Year   \n",
              "\n",
              "   Vehicle_Damage  Annual_Premium  Policy_Sales_Channel  Vintage  Response  \n",
              "id                                                                          \n",
              "1             Yes         40454.0                  26.0      217         1  \n",
              "2              No         33536.0                  26.0      183         0  \n",
              "3             Yes         38294.0                  26.0       27         1  \n",
              "4              No         28619.0                 152.0      203         0  \n",
              "5              No         27496.0                 152.0       39         0  "
            ],
            "text/html": [
              "\n",
              "  <div id=\"df-cae4df49-7fc3-4885-ac3a-64b3a0bf00c5\">\n",
              "    <div class=\"colab-df-container\">\n",
              "      <div>\n",
              "<style scoped>\n",
              "    .dataframe tbody tr th:only-of-type {\n",
              "        vertical-align: middle;\n",
              "    }\n",
              "\n",
              "    .dataframe tbody tr th {\n",
              "        vertical-align: top;\n",
              "    }\n",
              "\n",
              "    .dataframe thead th {\n",
              "        text-align: right;\n",
              "    }\n",
              "</style>\n",
              "<table border=\"1\" class=\"dataframe\">\n",
              "  <thead>\n",
              "    <tr style=\"text-align: right;\">\n",
              "      <th></th>\n",
              "      <th>Gender</th>\n",
              "      <th>Age</th>\n",
              "      <th>Driving_License</th>\n",
              "      <th>Region_Code</th>\n",
              "      <th>Previously_Insured</th>\n",
              "      <th>Vehicle_Age</th>\n",
              "      <th>Vehicle_Damage</th>\n",
              "      <th>Annual_Premium</th>\n",
              "      <th>Policy_Sales_Channel</th>\n",
              "      <th>Vintage</th>\n",
              "      <th>Response</th>\n",
              "    </tr>\n",
              "    <tr>\n",
              "      <th>id</th>\n",
              "      <th></th>\n",
              "      <th></th>\n",
              "      <th></th>\n",
              "      <th></th>\n",
              "      <th></th>\n",
              "      <th></th>\n",
              "      <th></th>\n",
              "      <th></th>\n",
              "      <th></th>\n",
              "      <th></th>\n",
              "      <th></th>\n",
              "    </tr>\n",
              "  </thead>\n",
              "  <tbody>\n",
              "    <tr>\n",
              "      <th>1</th>\n",
              "      <td>Male</td>\n",
              "      <td>44</td>\n",
              "      <td>1</td>\n",
              "      <td>28.0</td>\n",
              "      <td>0</td>\n",
              "      <td>&gt; 2 Years</td>\n",
              "      <td>Yes</td>\n",
              "      <td>40454.0</td>\n",
              "      <td>26.0</td>\n",
              "      <td>217</td>\n",
              "      <td>1</td>\n",
              "    </tr>\n",
              "    <tr>\n",
              "      <th>2</th>\n",
              "      <td>Male</td>\n",
              "      <td>76</td>\n",
              "      <td>1</td>\n",
              "      <td>3.0</td>\n",
              "      <td>0</td>\n",
              "      <td>1-2 Year</td>\n",
              "      <td>No</td>\n",
              "      <td>33536.0</td>\n",
              "      <td>26.0</td>\n",
              "      <td>183</td>\n",
              "      <td>0</td>\n",
              "    </tr>\n",
              "    <tr>\n",
              "      <th>3</th>\n",
              "      <td>Male</td>\n",
              "      <td>47</td>\n",
              "      <td>1</td>\n",
              "      <td>28.0</td>\n",
              "      <td>0</td>\n",
              "      <td>&gt; 2 Years</td>\n",
              "      <td>Yes</td>\n",
              "      <td>38294.0</td>\n",
              "      <td>26.0</td>\n",
              "      <td>27</td>\n",
              "      <td>1</td>\n",
              "    </tr>\n",
              "    <tr>\n",
              "      <th>4</th>\n",
              "      <td>Male</td>\n",
              "      <td>21</td>\n",
              "      <td>1</td>\n",
              "      <td>11.0</td>\n",
              "      <td>1</td>\n",
              "      <td>&lt; 1 Year</td>\n",
              "      <td>No</td>\n",
              "      <td>28619.0</td>\n",
              "      <td>152.0</td>\n",
              "      <td>203</td>\n",
              "      <td>0</td>\n",
              "    </tr>\n",
              "    <tr>\n",
              "      <th>5</th>\n",
              "      <td>Female</td>\n",
              "      <td>29</td>\n",
              "      <td>1</td>\n",
              "      <td>41.0</td>\n",
              "      <td>1</td>\n",
              "      <td>&lt; 1 Year</td>\n",
              "      <td>No</td>\n",
              "      <td>27496.0</td>\n",
              "      <td>152.0</td>\n",
              "      <td>39</td>\n",
              "      <td>0</td>\n",
              "    </tr>\n",
              "  </tbody>\n",
              "</table>\n",
              "</div>\n",
              "      <button class=\"colab-df-convert\" onclick=\"convertToInteractive('df-cae4df49-7fc3-4885-ac3a-64b3a0bf00c5')\"\n",
              "              title=\"Convert this dataframe to an interactive table.\"\n",
              "              style=\"display:none;\">\n",
              "        \n",
              "  <svg xmlns=\"http://www.w3.org/2000/svg\" height=\"24px\"viewBox=\"0 0 24 24\"\n",
              "       width=\"24px\">\n",
              "    <path d=\"M0 0h24v24H0V0z\" fill=\"none\"/>\n",
              "    <path d=\"M18.56 5.44l.94 2.06.94-2.06 2.06-.94-2.06-.94-.94-2.06-.94 2.06-2.06.94zm-11 1L8.5 8.5l.94-2.06 2.06-.94-2.06-.94L8.5 2.5l-.94 2.06-2.06.94zm10 10l.94 2.06.94-2.06 2.06-.94-2.06-.94-.94-2.06-.94 2.06-2.06.94z\"/><path d=\"M17.41 7.96l-1.37-1.37c-.4-.4-.92-.59-1.43-.59-.52 0-1.04.2-1.43.59L10.3 9.45l-7.72 7.72c-.78.78-.78 2.05 0 2.83L4 21.41c.39.39.9.59 1.41.59.51 0 1.02-.2 1.41-.59l7.78-7.78 2.81-2.81c.8-.78.8-2.07 0-2.86zM5.41 20L4 18.59l7.72-7.72 1.47 1.35L5.41 20z\"/>\n",
              "  </svg>\n",
              "      </button>\n",
              "      \n",
              "  <style>\n",
              "    .colab-df-container {\n",
              "      display:flex;\n",
              "      flex-wrap:wrap;\n",
              "      gap: 12px;\n",
              "    }\n",
              "\n",
              "    .colab-df-convert {\n",
              "      background-color: #E8F0FE;\n",
              "      border: none;\n",
              "      border-radius: 50%;\n",
              "      cursor: pointer;\n",
              "      display: none;\n",
              "      fill: #1967D2;\n",
              "      height: 32px;\n",
              "      padding: 0 0 0 0;\n",
              "      width: 32px;\n",
              "    }\n",
              "\n",
              "    .colab-df-convert:hover {\n",
              "      background-color: #E2EBFA;\n",
              "      box-shadow: 0px 1px 2px rgba(60, 64, 67, 0.3), 0px 1px 3px 1px rgba(60, 64, 67, 0.15);\n",
              "      fill: #174EA6;\n",
              "    }\n",
              "\n",
              "    [theme=dark] .colab-df-convert {\n",
              "      background-color: #3B4455;\n",
              "      fill: #D2E3FC;\n",
              "    }\n",
              "\n",
              "    [theme=dark] .colab-df-convert:hover {\n",
              "      background-color: #434B5C;\n",
              "      box-shadow: 0px 1px 3px 1px rgba(0, 0, 0, 0.15);\n",
              "      filter: drop-shadow(0px 1px 2px rgba(0, 0, 0, 0.3));\n",
              "      fill: #FFFFFF;\n",
              "    }\n",
              "  </style>\n",
              "\n",
              "      <script>\n",
              "        const buttonEl =\n",
              "          document.querySelector('#df-cae4df49-7fc3-4885-ac3a-64b3a0bf00c5 button.colab-df-convert');\n",
              "        buttonEl.style.display =\n",
              "          google.colab.kernel.accessAllowed ? 'block' : 'none';\n",
              "\n",
              "        async function convertToInteractive(key) {\n",
              "          const element = document.querySelector('#df-cae4df49-7fc3-4885-ac3a-64b3a0bf00c5');\n",
              "          const dataTable =\n",
              "            await google.colab.kernel.invokeFunction('convertToInteractive',\n",
              "                                                     [key], {});\n",
              "          if (!dataTable) return;\n",
              "\n",
              "          const docLinkHtml = 'Like what you see? Visit the ' +\n",
              "            '<a target=\"_blank\" href=https://colab.research.google.com/notebooks/data_table.ipynb>data table notebook</a>'\n",
              "            + ' to learn more about interactive tables.';\n",
              "          element.innerHTML = '';\n",
              "          dataTable['output_type'] = 'display_data';\n",
              "          await google.colab.output.renderOutput(dataTable, element);\n",
              "          const docLink = document.createElement('div');\n",
              "          docLink.innerHTML = docLinkHtml;\n",
              "          element.appendChild(docLink);\n",
              "        }\n",
              "      </script>\n",
              "    </div>\n",
              "  </div>\n",
              "  "
            ]
          },
          "metadata": {},
          "execution_count": 507
        }
      ]
    },
    {
      "cell_type": "code",
      "source": [
        "#Melihat 5 data pertama dari Data train\n",
        "tr_df.tail(5)"
      ],
      "metadata": {
        "colab": {
          "base_uri": "https://localhost:8080/",
          "height": 301
        },
        "id": "QWjFeu2oJ0u-",
        "outputId": "404c2343-9a78-4744-ed53-d67e2c5e5b0f"
      },
      "execution_count": 508,
      "outputs": [
        {
          "output_type": "execute_result",
          "data": {
            "text/plain": [
              "        Gender  Age  Driving_License  Region_Code  Previously_Insured  \\\n",
              "id                                                                      \n",
              "381105    Male   74                1         26.0                   1   \n",
              "381106    Male   30                1         37.0                   1   \n",
              "381107    Male   21                1         30.0                   1   \n",
              "381108  Female   68                1         14.0                   0   \n",
              "381109    Male   46                1         29.0                   0   \n",
              "\n",
              "       Vehicle_Age Vehicle_Damage  Annual_Premium  Policy_Sales_Channel  \\\n",
              "id                                                                        \n",
              "381105    1-2 Year             No         30170.0                  26.0   \n",
              "381106    < 1 Year             No         40016.0                 152.0   \n",
              "381107    < 1 Year             No         35118.0                 160.0   \n",
              "381108   > 2 Years            Yes         44617.0                 124.0   \n",
              "381109    1-2 Year             No         41777.0                  26.0   \n",
              "\n",
              "        Vintage  Response  \n",
              "id                         \n",
              "381105       88         0  \n",
              "381106      131         0  \n",
              "381107      161         0  \n",
              "381108       74         0  \n",
              "381109      237         0  "
            ],
            "text/html": [
              "\n",
              "  <div id=\"df-12338296-590a-4a0b-8c52-60b5519deb51\">\n",
              "    <div class=\"colab-df-container\">\n",
              "      <div>\n",
              "<style scoped>\n",
              "    .dataframe tbody tr th:only-of-type {\n",
              "        vertical-align: middle;\n",
              "    }\n",
              "\n",
              "    .dataframe tbody tr th {\n",
              "        vertical-align: top;\n",
              "    }\n",
              "\n",
              "    .dataframe thead th {\n",
              "        text-align: right;\n",
              "    }\n",
              "</style>\n",
              "<table border=\"1\" class=\"dataframe\">\n",
              "  <thead>\n",
              "    <tr style=\"text-align: right;\">\n",
              "      <th></th>\n",
              "      <th>Gender</th>\n",
              "      <th>Age</th>\n",
              "      <th>Driving_License</th>\n",
              "      <th>Region_Code</th>\n",
              "      <th>Previously_Insured</th>\n",
              "      <th>Vehicle_Age</th>\n",
              "      <th>Vehicle_Damage</th>\n",
              "      <th>Annual_Premium</th>\n",
              "      <th>Policy_Sales_Channel</th>\n",
              "      <th>Vintage</th>\n",
              "      <th>Response</th>\n",
              "    </tr>\n",
              "    <tr>\n",
              "      <th>id</th>\n",
              "      <th></th>\n",
              "      <th></th>\n",
              "      <th></th>\n",
              "      <th></th>\n",
              "      <th></th>\n",
              "      <th></th>\n",
              "      <th></th>\n",
              "      <th></th>\n",
              "      <th></th>\n",
              "      <th></th>\n",
              "      <th></th>\n",
              "    </tr>\n",
              "  </thead>\n",
              "  <tbody>\n",
              "    <tr>\n",
              "      <th>381105</th>\n",
              "      <td>Male</td>\n",
              "      <td>74</td>\n",
              "      <td>1</td>\n",
              "      <td>26.0</td>\n",
              "      <td>1</td>\n",
              "      <td>1-2 Year</td>\n",
              "      <td>No</td>\n",
              "      <td>30170.0</td>\n",
              "      <td>26.0</td>\n",
              "      <td>88</td>\n",
              "      <td>0</td>\n",
              "    </tr>\n",
              "    <tr>\n",
              "      <th>381106</th>\n",
              "      <td>Male</td>\n",
              "      <td>30</td>\n",
              "      <td>1</td>\n",
              "      <td>37.0</td>\n",
              "      <td>1</td>\n",
              "      <td>&lt; 1 Year</td>\n",
              "      <td>No</td>\n",
              "      <td>40016.0</td>\n",
              "      <td>152.0</td>\n",
              "      <td>131</td>\n",
              "      <td>0</td>\n",
              "    </tr>\n",
              "    <tr>\n",
              "      <th>381107</th>\n",
              "      <td>Male</td>\n",
              "      <td>21</td>\n",
              "      <td>1</td>\n",
              "      <td>30.0</td>\n",
              "      <td>1</td>\n",
              "      <td>&lt; 1 Year</td>\n",
              "      <td>No</td>\n",
              "      <td>35118.0</td>\n",
              "      <td>160.0</td>\n",
              "      <td>161</td>\n",
              "      <td>0</td>\n",
              "    </tr>\n",
              "    <tr>\n",
              "      <th>381108</th>\n",
              "      <td>Female</td>\n",
              "      <td>68</td>\n",
              "      <td>1</td>\n",
              "      <td>14.0</td>\n",
              "      <td>0</td>\n",
              "      <td>&gt; 2 Years</td>\n",
              "      <td>Yes</td>\n",
              "      <td>44617.0</td>\n",
              "      <td>124.0</td>\n",
              "      <td>74</td>\n",
              "      <td>0</td>\n",
              "    </tr>\n",
              "    <tr>\n",
              "      <th>381109</th>\n",
              "      <td>Male</td>\n",
              "      <td>46</td>\n",
              "      <td>1</td>\n",
              "      <td>29.0</td>\n",
              "      <td>0</td>\n",
              "      <td>1-2 Year</td>\n",
              "      <td>No</td>\n",
              "      <td>41777.0</td>\n",
              "      <td>26.0</td>\n",
              "      <td>237</td>\n",
              "      <td>0</td>\n",
              "    </tr>\n",
              "  </tbody>\n",
              "</table>\n",
              "</div>\n",
              "      <button class=\"colab-df-convert\" onclick=\"convertToInteractive('df-12338296-590a-4a0b-8c52-60b5519deb51')\"\n",
              "              title=\"Convert this dataframe to an interactive table.\"\n",
              "              style=\"display:none;\">\n",
              "        \n",
              "  <svg xmlns=\"http://www.w3.org/2000/svg\" height=\"24px\"viewBox=\"0 0 24 24\"\n",
              "       width=\"24px\">\n",
              "    <path d=\"M0 0h24v24H0V0z\" fill=\"none\"/>\n",
              "    <path d=\"M18.56 5.44l.94 2.06.94-2.06 2.06-.94-2.06-.94-.94-2.06-.94 2.06-2.06.94zm-11 1L8.5 8.5l.94-2.06 2.06-.94-2.06-.94L8.5 2.5l-.94 2.06-2.06.94zm10 10l.94 2.06.94-2.06 2.06-.94-2.06-.94-.94-2.06-.94 2.06-2.06.94z\"/><path d=\"M17.41 7.96l-1.37-1.37c-.4-.4-.92-.59-1.43-.59-.52 0-1.04.2-1.43.59L10.3 9.45l-7.72 7.72c-.78.78-.78 2.05 0 2.83L4 21.41c.39.39.9.59 1.41.59.51 0 1.02-.2 1.41-.59l7.78-7.78 2.81-2.81c.8-.78.8-2.07 0-2.86zM5.41 20L4 18.59l7.72-7.72 1.47 1.35L5.41 20z\"/>\n",
              "  </svg>\n",
              "      </button>\n",
              "      \n",
              "  <style>\n",
              "    .colab-df-container {\n",
              "      display:flex;\n",
              "      flex-wrap:wrap;\n",
              "      gap: 12px;\n",
              "    }\n",
              "\n",
              "    .colab-df-convert {\n",
              "      background-color: #E8F0FE;\n",
              "      border: none;\n",
              "      border-radius: 50%;\n",
              "      cursor: pointer;\n",
              "      display: none;\n",
              "      fill: #1967D2;\n",
              "      height: 32px;\n",
              "      padding: 0 0 0 0;\n",
              "      width: 32px;\n",
              "    }\n",
              "\n",
              "    .colab-df-convert:hover {\n",
              "      background-color: #E2EBFA;\n",
              "      box-shadow: 0px 1px 2px rgba(60, 64, 67, 0.3), 0px 1px 3px 1px rgba(60, 64, 67, 0.15);\n",
              "      fill: #174EA6;\n",
              "    }\n",
              "\n",
              "    [theme=dark] .colab-df-convert {\n",
              "      background-color: #3B4455;\n",
              "      fill: #D2E3FC;\n",
              "    }\n",
              "\n",
              "    [theme=dark] .colab-df-convert:hover {\n",
              "      background-color: #434B5C;\n",
              "      box-shadow: 0px 1px 3px 1px rgba(0, 0, 0, 0.15);\n",
              "      filter: drop-shadow(0px 1px 2px rgba(0, 0, 0, 0.3));\n",
              "      fill: #FFFFFF;\n",
              "    }\n",
              "  </style>\n",
              "\n",
              "      <script>\n",
              "        const buttonEl =\n",
              "          document.querySelector('#df-12338296-590a-4a0b-8c52-60b5519deb51 button.colab-df-convert');\n",
              "        buttonEl.style.display =\n",
              "          google.colab.kernel.accessAllowed ? 'block' : 'none';\n",
              "\n",
              "        async function convertToInteractive(key) {\n",
              "          const element = document.querySelector('#df-12338296-590a-4a0b-8c52-60b5519deb51');\n",
              "          const dataTable =\n",
              "            await google.colab.kernel.invokeFunction('convertToInteractive',\n",
              "                                                     [key], {});\n",
              "          if (!dataTable) return;\n",
              "\n",
              "          const docLinkHtml = 'Like what you see? Visit the ' +\n",
              "            '<a target=\"_blank\" href=https://colab.research.google.com/notebooks/data_table.ipynb>data table notebook</a>'\n",
              "            + ' to learn more about interactive tables.';\n",
              "          element.innerHTML = '';\n",
              "          dataTable['output_type'] = 'display_data';\n",
              "          await google.colab.output.renderOutput(dataTable, element);\n",
              "          const docLink = document.createElement('div');\n",
              "          docLink.innerHTML = docLinkHtml;\n",
              "          element.appendChild(docLink);\n",
              "        }\n",
              "      </script>\n",
              "    </div>\n",
              "  </div>\n",
              "  "
            ]
          },
          "metadata": {},
          "execution_count": 508
        }
      ]
    },
    {
      "cell_type": "code",
      "source": [
        "# Melihat tipe dari setiap data\n",
        "tr_df.dtypes"
      ],
      "metadata": {
        "colab": {
          "base_uri": "https://localhost:8080/"
        },
        "id": "FR3L7MaplPAc",
        "outputId": "71a25cfe-0cc5-4d9f-b772-96bd22662808"
      },
      "execution_count": 509,
      "outputs": [
        {
          "output_type": "execute_result",
          "data": {
            "text/plain": [
              "Gender                   object\n",
              "Age                       int64\n",
              "Driving_License           int64\n",
              "Region_Code             float64\n",
              "Previously_Insured        int64\n",
              "Vehicle_Age              object\n",
              "Vehicle_Damage           object\n",
              "Annual_Premium          float64\n",
              "Policy_Sales_Channel    float64\n",
              "Vintage                   int64\n",
              "Response                  int64\n",
              "dtype: object"
            ]
          },
          "metadata": {},
          "execution_count": 509
        }
      ]
    },
    {
      "cell_type": "code",
      "source": [
        "# Melihat jumlah data, mean, deviasi max, dan min dari tiap variabel\n",
        "tr_df.describe().transpose()"
      ],
      "metadata": {
        "colab": {
          "base_uri": "https://localhost:8080/",
          "height": 300
        },
        "id": "8UTErwH8JlMa",
        "outputId": "0ce4aaef-dcf0-4a45-86c0-cb3cd3ed7cbc"
      },
      "execution_count": 510,
      "outputs": [
        {
          "output_type": "execute_result",
          "data": {
            "text/plain": [
              "                         count          mean           std     min      25%  \\\n",
              "Age                   381109.0     38.822584     15.511611    20.0     25.0   \n",
              "Driving_License       381109.0      0.997869      0.046110     0.0      1.0   \n",
              "Region_Code           381109.0     26.388807     13.229888     0.0     15.0   \n",
              "Previously_Insured    381109.0      0.458210      0.498251     0.0      0.0   \n",
              "Annual_Premium        381109.0  30564.389581  17213.155057  2630.0  24405.0   \n",
              "Policy_Sales_Channel  381109.0    112.034295     54.203995     1.0     29.0   \n",
              "Vintage               381109.0    154.347397     83.671304    10.0     82.0   \n",
              "Response              381109.0      0.122563      0.327936     0.0      0.0   \n",
              "\n",
              "                          50%      75%       max  \n",
              "Age                      36.0     49.0      85.0  \n",
              "Driving_License           1.0      1.0       1.0  \n",
              "Region_Code              28.0     35.0      52.0  \n",
              "Previously_Insured        0.0      1.0       1.0  \n",
              "Annual_Premium        31669.0  39400.0  540165.0  \n",
              "Policy_Sales_Channel    133.0    152.0     163.0  \n",
              "Vintage                 154.0    227.0     299.0  \n",
              "Response                  0.0      0.0       1.0  "
            ],
            "text/html": [
              "\n",
              "  <div id=\"df-c42cda2d-b069-4fca-84af-6fd8dd99e8f9\">\n",
              "    <div class=\"colab-df-container\">\n",
              "      <div>\n",
              "<style scoped>\n",
              "    .dataframe tbody tr th:only-of-type {\n",
              "        vertical-align: middle;\n",
              "    }\n",
              "\n",
              "    .dataframe tbody tr th {\n",
              "        vertical-align: top;\n",
              "    }\n",
              "\n",
              "    .dataframe thead th {\n",
              "        text-align: right;\n",
              "    }\n",
              "</style>\n",
              "<table border=\"1\" class=\"dataframe\">\n",
              "  <thead>\n",
              "    <tr style=\"text-align: right;\">\n",
              "      <th></th>\n",
              "      <th>count</th>\n",
              "      <th>mean</th>\n",
              "      <th>std</th>\n",
              "      <th>min</th>\n",
              "      <th>25%</th>\n",
              "      <th>50%</th>\n",
              "      <th>75%</th>\n",
              "      <th>max</th>\n",
              "    </tr>\n",
              "  </thead>\n",
              "  <tbody>\n",
              "    <tr>\n",
              "      <th>Age</th>\n",
              "      <td>381109.0</td>\n",
              "      <td>38.822584</td>\n",
              "      <td>15.511611</td>\n",
              "      <td>20.0</td>\n",
              "      <td>25.0</td>\n",
              "      <td>36.0</td>\n",
              "      <td>49.0</td>\n",
              "      <td>85.0</td>\n",
              "    </tr>\n",
              "    <tr>\n",
              "      <th>Driving_License</th>\n",
              "      <td>381109.0</td>\n",
              "      <td>0.997869</td>\n",
              "      <td>0.046110</td>\n",
              "      <td>0.0</td>\n",
              "      <td>1.0</td>\n",
              "      <td>1.0</td>\n",
              "      <td>1.0</td>\n",
              "      <td>1.0</td>\n",
              "    </tr>\n",
              "    <tr>\n",
              "      <th>Region_Code</th>\n",
              "      <td>381109.0</td>\n",
              "      <td>26.388807</td>\n",
              "      <td>13.229888</td>\n",
              "      <td>0.0</td>\n",
              "      <td>15.0</td>\n",
              "      <td>28.0</td>\n",
              "      <td>35.0</td>\n",
              "      <td>52.0</td>\n",
              "    </tr>\n",
              "    <tr>\n",
              "      <th>Previously_Insured</th>\n",
              "      <td>381109.0</td>\n",
              "      <td>0.458210</td>\n",
              "      <td>0.498251</td>\n",
              "      <td>0.0</td>\n",
              "      <td>0.0</td>\n",
              "      <td>0.0</td>\n",
              "      <td>1.0</td>\n",
              "      <td>1.0</td>\n",
              "    </tr>\n",
              "    <tr>\n",
              "      <th>Annual_Premium</th>\n",
              "      <td>381109.0</td>\n",
              "      <td>30564.389581</td>\n",
              "      <td>17213.155057</td>\n",
              "      <td>2630.0</td>\n",
              "      <td>24405.0</td>\n",
              "      <td>31669.0</td>\n",
              "      <td>39400.0</td>\n",
              "      <td>540165.0</td>\n",
              "    </tr>\n",
              "    <tr>\n",
              "      <th>Policy_Sales_Channel</th>\n",
              "      <td>381109.0</td>\n",
              "      <td>112.034295</td>\n",
              "      <td>54.203995</td>\n",
              "      <td>1.0</td>\n",
              "      <td>29.0</td>\n",
              "      <td>133.0</td>\n",
              "      <td>152.0</td>\n",
              "      <td>163.0</td>\n",
              "    </tr>\n",
              "    <tr>\n",
              "      <th>Vintage</th>\n",
              "      <td>381109.0</td>\n",
              "      <td>154.347397</td>\n",
              "      <td>83.671304</td>\n",
              "      <td>10.0</td>\n",
              "      <td>82.0</td>\n",
              "      <td>154.0</td>\n",
              "      <td>227.0</td>\n",
              "      <td>299.0</td>\n",
              "    </tr>\n",
              "    <tr>\n",
              "      <th>Response</th>\n",
              "      <td>381109.0</td>\n",
              "      <td>0.122563</td>\n",
              "      <td>0.327936</td>\n",
              "      <td>0.0</td>\n",
              "      <td>0.0</td>\n",
              "      <td>0.0</td>\n",
              "      <td>0.0</td>\n",
              "      <td>1.0</td>\n",
              "    </tr>\n",
              "  </tbody>\n",
              "</table>\n",
              "</div>\n",
              "      <button class=\"colab-df-convert\" onclick=\"convertToInteractive('df-c42cda2d-b069-4fca-84af-6fd8dd99e8f9')\"\n",
              "              title=\"Convert this dataframe to an interactive table.\"\n",
              "              style=\"display:none;\">\n",
              "        \n",
              "  <svg xmlns=\"http://www.w3.org/2000/svg\" height=\"24px\"viewBox=\"0 0 24 24\"\n",
              "       width=\"24px\">\n",
              "    <path d=\"M0 0h24v24H0V0z\" fill=\"none\"/>\n",
              "    <path d=\"M18.56 5.44l.94 2.06.94-2.06 2.06-.94-2.06-.94-.94-2.06-.94 2.06-2.06.94zm-11 1L8.5 8.5l.94-2.06 2.06-.94-2.06-.94L8.5 2.5l-.94 2.06-2.06.94zm10 10l.94 2.06.94-2.06 2.06-.94-2.06-.94-.94-2.06-.94 2.06-2.06.94z\"/><path d=\"M17.41 7.96l-1.37-1.37c-.4-.4-.92-.59-1.43-.59-.52 0-1.04.2-1.43.59L10.3 9.45l-7.72 7.72c-.78.78-.78 2.05 0 2.83L4 21.41c.39.39.9.59 1.41.59.51 0 1.02-.2 1.41-.59l7.78-7.78 2.81-2.81c.8-.78.8-2.07 0-2.86zM5.41 20L4 18.59l7.72-7.72 1.47 1.35L5.41 20z\"/>\n",
              "  </svg>\n",
              "      </button>\n",
              "      \n",
              "  <style>\n",
              "    .colab-df-container {\n",
              "      display:flex;\n",
              "      flex-wrap:wrap;\n",
              "      gap: 12px;\n",
              "    }\n",
              "\n",
              "    .colab-df-convert {\n",
              "      background-color: #E8F0FE;\n",
              "      border: none;\n",
              "      border-radius: 50%;\n",
              "      cursor: pointer;\n",
              "      display: none;\n",
              "      fill: #1967D2;\n",
              "      height: 32px;\n",
              "      padding: 0 0 0 0;\n",
              "      width: 32px;\n",
              "    }\n",
              "\n",
              "    .colab-df-convert:hover {\n",
              "      background-color: #E2EBFA;\n",
              "      box-shadow: 0px 1px 2px rgba(60, 64, 67, 0.3), 0px 1px 3px 1px rgba(60, 64, 67, 0.15);\n",
              "      fill: #174EA6;\n",
              "    }\n",
              "\n",
              "    [theme=dark] .colab-df-convert {\n",
              "      background-color: #3B4455;\n",
              "      fill: #D2E3FC;\n",
              "    }\n",
              "\n",
              "    [theme=dark] .colab-df-convert:hover {\n",
              "      background-color: #434B5C;\n",
              "      box-shadow: 0px 1px 3px 1px rgba(0, 0, 0, 0.15);\n",
              "      filter: drop-shadow(0px 1px 2px rgba(0, 0, 0, 0.3));\n",
              "      fill: #FFFFFF;\n",
              "    }\n",
              "  </style>\n",
              "\n",
              "      <script>\n",
              "        const buttonEl =\n",
              "          document.querySelector('#df-c42cda2d-b069-4fca-84af-6fd8dd99e8f9 button.colab-df-convert');\n",
              "        buttonEl.style.display =\n",
              "          google.colab.kernel.accessAllowed ? 'block' : 'none';\n",
              "\n",
              "        async function convertToInteractive(key) {\n",
              "          const element = document.querySelector('#df-c42cda2d-b069-4fca-84af-6fd8dd99e8f9');\n",
              "          const dataTable =\n",
              "            await google.colab.kernel.invokeFunction('convertToInteractive',\n",
              "                                                     [key], {});\n",
              "          if (!dataTable) return;\n",
              "\n",
              "          const docLinkHtml = 'Like what you see? Visit the ' +\n",
              "            '<a target=\"_blank\" href=https://colab.research.google.com/notebooks/data_table.ipynb>data table notebook</a>'\n",
              "            + ' to learn more about interactive tables.';\n",
              "          element.innerHTML = '';\n",
              "          dataTable['output_type'] = 'display_data';\n",
              "          await google.colab.output.renderOutput(dataTable, element);\n",
              "          const docLink = document.createElement('div');\n",
              "          docLink.innerHTML = docLinkHtml;\n",
              "          element.appendChild(docLink);\n",
              "        }\n",
              "      </script>\n",
              "    </div>\n",
              "  </div>\n",
              "  "
            ]
          },
          "metadata": {},
          "execution_count": 510
        }
      ]
    },
    {
      "cell_type": "code",
      "source": [
        "#melihat apakah variabel yang terdapat missing value dengan mengecek apakah ada variabel dengan Non-Null Count yang berbeda\n",
        "tr_df.info()"
      ],
      "metadata": {
        "colab": {
          "base_uri": "https://localhost:8080/"
        },
        "id": "EWCaVxHUKPJ_",
        "outputId": "7ea50f28-b95e-4d8f-b555-bed5942ae646"
      },
      "execution_count": 511,
      "outputs": [
        {
          "output_type": "stream",
          "name": "stdout",
          "text": [
            "<class 'pandas.core.frame.DataFrame'>\n",
            "Int64Index: 381109 entries, 1 to 381109\n",
            "Data columns (total 11 columns):\n",
            " #   Column                Non-Null Count   Dtype  \n",
            "---  ------                --------------   -----  \n",
            " 0   Gender                381109 non-null  object \n",
            " 1   Age                   381109 non-null  int64  \n",
            " 2   Driving_License       381109 non-null  int64  \n",
            " 3   Region_Code           381109 non-null  float64\n",
            " 4   Previously_Insured    381109 non-null  int64  \n",
            " 5   Vehicle_Age           381109 non-null  object \n",
            " 6   Vehicle_Damage        381109 non-null  object \n",
            " 7   Annual_Premium        381109 non-null  float64\n",
            " 8   Policy_Sales_Channel  381109 non-null  float64\n",
            " 9   Vintage               381109 non-null  int64  \n",
            " 10  Response              381109 non-null  int64  \n",
            "dtypes: float64(3), int64(5), object(3)\n",
            "memory usage: 34.9+ MB\n"
          ]
        }
      ]
    },
    {
      "cell_type": "code",
      "source": [
        "#melihat sebaran data pada tiap variabel dengan diagram\n",
        "#Distribusi Data pada Gender\n",
        "print(tr_df['Gender'].value_counts())\n",
        "sns.countplot(tr_df['Gender']).set_title('Distribusi Gender')\n",
        "plt.show()"
      ],
      "metadata": {
        "colab": {
          "base_uri": "https://localhost:8080/",
          "height": 352
        },
        "id": "VTP6qGr0Kr6H",
        "outputId": "6220351e-0abb-41d0-dd18-a39320b43bf6"
      },
      "execution_count": 512,
      "outputs": [
        {
          "output_type": "stream",
          "name": "stdout",
          "text": [
            "Male      206089\n",
            "Female    175020\n",
            "Name: Gender, dtype: int64\n"
          ]
        },
        {
          "output_type": "display_data",
          "data": {
            "text/plain": [
              "<Figure size 432x288 with 1 Axes>"
            ],
            "image/png": "[encoded data removed]"
          },
          "metadata": {}
        }
      ]
    },
    {
      "cell_type": "code",
      "source": [
        "#Distribusi Data pada Age\n",
        "print(tr_df['Age'].value_counts())\n",
        "sns.countplot(tr_df['Age']).set_title('Distribusi Usia')\n",
        "plt.show()"
      ],
      "metadata": {
        "colab": {
          "base_uri": "https://localhost:8080/",
          "height": 508
        },
        "id": "lSkUNx1jLm0I",
        "outputId": "12ef9686-2f48-4a6b-e9f4-cc127e47e72f"
      },
      "execution_count": 513,
      "outputs": [
        {
          "output_type": "stream",
          "name": "stdout",
          "text": [
            "24    25960\n",
            "23    24256\n",
            "22    20964\n",
            "25    20636\n",
            "21    16457\n",
            "      ...  \n",
            "81       56\n",
            "82       29\n",
            "83       22\n",
            "84       11\n",
            "85       11\n",
            "Name: Age, Length: 66, dtype: int64\n"
          ]
        },
        {
          "output_type": "display_data",
          "data": {
            "text/plain": [
              "<Figure size 432x288 with 1 Axes>"
            ],
            "image/png": "[encoded data removed]"
          },
          "metadata": {}
        }
      ]
    },
    {
      "cell_type": "code",
      "source": [
        "#Distribusi Data pada Driving_License\n",
        "print(tr_df['Driving_License'].value_counts())\n",
        "sns.countplot(tr_df['Driving_License']).set_title('Distribusi Kepemilikan SIM')\n",
        "plt.show()"
      ],
      "metadata": {
        "colab": {
          "base_uri": "https://localhost:8080/",
          "height": 352
        },
        "id": "zsNYZigVL5iv",
        "outputId": "2fb90a4b-a646-4c2d-a566-f79482c81f30"
      },
      "execution_count": 514,
      "outputs": [
        {
          "output_type": "stream",
          "name": "stdout",
          "text": [
            "1    380297\n",
            "0       812\n",
            "Name: Driving_License, dtype: int64\n"
          ]
        },
        {
          "output_type": "display_data",
          "data": {
            "text/plain": [
              "<Figure size 432x288 with 1 Axes>"
            ],
            "image/png": "[encoded data removed]"
          },
          "metadata": {}
        }
      ]
    },
    {
      "cell_type": "code",
      "source": [
        "#Distribusi Data pada Yang Sudah Pernah ikut Asuransi\n",
        "print(tr_df['Previously_Insured'].value_counts())\n",
        "sns.countplot(tr_df['Previously_Insured']).set_title('Distribusi Yang Sudah Pernah ikut Asuransi')\n",
        "plt.show()"
      ],
      "metadata": {
        "colab": {
          "base_uri": "https://localhost:8080/",
          "height": 352
        },
        "id": "1ksrIrDLMohx",
        "outputId": "afedc89c-d51a-4521-da92-a438fa4c85b3"
      },
      "execution_count": 515,
      "outputs": [
        {
          "output_type": "stream",
          "name": "stdout",
          "text": [
            "0    206481\n",
            "1    174628\n",
            "Name: Previously_Insured, dtype: int64\n"
          ]
        },
        {
          "output_type": "display_data",
          "data": {
            "text/plain": [
              "<Figure size 432x288 with 1 Axes>"
            ],
            "image/png": "[encoded data removed]"
          },
          "metadata": {}
        }
      ]
    },
    {
      "cell_type": "code",
      "source": [
        "#Distribusi Data pada Umur Kendaraan\n",
        "print(tr_df['Vehicle_Age'].value_counts())\n",
        "sns.countplot(tr_df['Vehicle_Age']).set_title('Distribusi Umur Kendaraan')\n",
        "plt.show()"
      ],
      "metadata": {
        "colab": {
          "base_uri": "https://localhost:8080/",
          "height": 370
        },
        "id": "8nxbia6bM03f",
        "outputId": "18fc4ba1-f5c9-40c0-d675-d8a53ff4f086"
      },
      "execution_count": 516,
      "outputs": [
        {
          "output_type": "stream",
          "name": "stdout",
          "text": [
            "1-2 Year     200316\n",
            "< 1 Year     164786\n",
            "> 2 Years     16007\n",
            "Name: Vehicle_Age, dtype: int64\n"
          ]
        },
        {
          "output_type": "display_data",
          "data": {
            "text/plain": [
              "<Figure size 432x288 with 1 Axes>"
            ],
            "image/png": "[encoded data removed]"
          },
          "metadata": {}
        }
      ]
    },
    {
      "cell_type": "code",
      "source": [
        "#Distribusi Data pada Apakah Kendaraan Pernah Rusak\n",
        "print(tr_df['Vehicle_Damage'].value_counts())\n",
        "sns.countplot(tr_df['Vehicle_Damage']).set_title('Distribusi Apakah Kendaraan Pernah Rusak')\n",
        "plt.show()"
      ],
      "metadata": {
        "colab": {
          "base_uri": "https://localhost:8080/",
          "height": 352
        },
        "id": "3KmvoO41M8Vn",
        "outputId": "37ab7a1f-8621-4d16-8ae2-9410ab8bd846"
      },
      "execution_count": 517,
      "outputs": [
        {
          "output_type": "stream",
          "name": "stdout",
          "text": [
            "Yes    192413\n",
            "No     188696\n",
            "Name: Vehicle_Damage, dtype: int64\n"
          ]
        },
        {
          "output_type": "display_data",
          "data": {
            "text/plain": [
              "<Figure size 432x288 with 1 Axes>"
            ],
            "image/png": "[encoded data removed]"
          },
          "metadata": {}
        }
      ]
    },
    {
      "cell_type": "code",
      "source": [
        "#Distribusi Data pada Respon Terhadap Asuransi\n",
        "print(tr_df['Response'].value_counts())\n",
        "sns.countplot(tr_df['Response']).set_title('Distribusi Respon Terhadap Mau Mengambil Asuransi')\n",
        "plt.show()"
      ],
      "metadata": {
        "colab": {
          "base_uri": "https://localhost:8080/",
          "height": 352
        },
        "id": "ab4yzg08RXiq",
        "outputId": "0594df93-67da-4304-dd5c-69b1c8619daf"
      },
      "execution_count": 518,
      "outputs": [
        {
          "output_type": "stream",
          "name": "stdout",
          "text": [
            "0    334399\n",
            "1     46710\n",
            "Name: Response, dtype: int64\n"
          ]
        },
        {
          "output_type": "display_data",
          "data": {
            "text/plain": [
              "<Figure size 432x288 with 1 Axes>"
            ],
            "image/png": "[encoded data removed]"
          },
          "metadata": {}
        }
      ]
    },
    {
      "cell_type": "code",
      "source": [
        "# Melihat Distribusi dari Premi Tahunan di data Train\n",
        "sns.distplot(tr_df.Annual_Premium)"
      ],
      "metadata": {
        "colab": {
          "base_uri": "https://localhost:8080/",
          "height": 313
        },
        "id": "rZSqwJMavW3S",
        "outputId": "c9ed6e04-d580-4f61-88b7-4df9c592ccf4"
      },
      "execution_count": 519,
      "outputs": [
        {
          "output_type": "execute_result",
          "data": {
            "text/plain": [
              "<matplotlib.axes._subplots.AxesSubplot at 0x7f55a0288890>"
            ]
          },
          "metadata": {},
          "execution_count": 519
        },
        {
          "output_type": "display_data",
          "data": {
            "text/plain": [
              "<Figure size 432x288 with 1 Axes>"
            ],
            "image/png": "[encoded data removed]"
          },
          "metadata": {}
        }
      ]
    },
    {
      "cell_type": "code",
      "source": [
        "sns.boxplot(y = 'Annual_Premium', data = tr_df,palette='Accent')"
      ],
      "metadata": {
        "colab": {
          "base_uri": "https://localhost:8080/",
          "height": 265
        },
        "id": "fE1I_i_tvkdi",
        "outputId": "807919cd-a48b-4715-94b3-aeec432afaf7"
      },
      "execution_count": 520,
      "outputs": [
        {
          "output_type": "execute_result",
          "data": {
            "text/plain": [
              "<matplotlib.axes._subplots.AxesSubplot at 0x7f5595e378d0>"
            ]
          },
          "metadata": {},
          "execution_count": 520
        },
        {
          "output_type": "display_data",
          "data": {
            "text/plain": [
              "<Figure size 432x288 with 1 Axes>"
            ],
            "image/png": "[encoded data removed]"
          },
          "metadata": {}
        }
      ]
    },
    {
      "cell_type": "code",
      "source": [
        "# Melihat Distribusi dari Umur di data Train\n",
        "sns.distplot(te_df.Age)"
      ],
      "metadata": {
        "colab": {
          "base_uri": "https://localhost:8080/",
          "height": 302
        },
        "id": "tsA_tZrzwwvI",
        "outputId": "0e2e27ed-f5fb-4e21-f660-2d7309e3aed3"
      },
      "execution_count": 521,
      "outputs": [
        {
          "output_type": "execute_result",
          "data": {
            "text/plain": [
              "<matplotlib.axes._subplots.AxesSubplot at 0x7f55a05613d0>"
            ]
          },
          "metadata": {},
          "execution_count": 521
        },
        {
          "output_type": "display_data",
          "data": {
            "text/plain": [
              "<Figure size 432x288 with 1 Axes>"
            ],
            "image/png": "[encoded data removed]"
          },
          "metadata": {}
        }
      ]
    },
    {
      "cell_type": "code",
      "source": [
        "sns.boxplot(y = 'Age', data = te_df,palette='Accent')"
      ],
      "metadata": {
        "colab": {
          "base_uri": "https://localhost:8080/",
          "height": 265
        },
        "id": "kODexmWUw2NH",
        "outputId": "c6e3cb6e-3939-4b26-945b-07db604c33de"
      },
      "execution_count": 522,
      "outputs": [
        {
          "output_type": "execute_result",
          "data": {
            "text/plain": [
              "<matplotlib.axes._subplots.AxesSubplot at 0x7f559da6f3d0>"
            ]
          },
          "metadata": {},
          "execution_count": 522
        },
        {
          "output_type": "display_data",
          "data": {
            "text/plain": [
              "<Figure size 432x288 with 1 Axes>"
            ],
            "image/png": "[encoded data removed]"
          },
          "metadata": {}
        }
      ]
    },
    {
      "cell_type": "code",
      "source": [
        "# Distribusi Umur VS Premi Tahunan\n",
        "sns.scatterplot(x=tr_df['Age'],y=tr_df['Annual_Premium'])"
      ],
      "metadata": {
        "colab": {
          "base_uri": "https://localhost:8080/",
          "height": 302
        },
        "id": "KcZjFNaHxnM4",
        "outputId": "2d9e1083-5717-45d6-f3ca-783b65a73980"
      },
      "execution_count": 523,
      "outputs": [
        {
          "output_type": "execute_result",
          "data": {
            "text/plain": [
              "<matplotlib.axes._subplots.AxesSubplot at 0x7f559f0a3690>"
            ]
          },
          "metadata": {},
          "execution_count": 523
        },
        {
          "output_type": "display_data",
          "data": {
            "text/plain": [
              "<Figure size 432x288 with 1 Axes>"
            ],
            "image/png": "[encoded data removed]"
          },
          "metadata": {}
        }
      ]
    },
    {
      "cell_type": "code",
      "source": [
        "# Melihat Distribusi dari Vintage di data Train\n",
        "sns.distplot(te_df.Vintage)"
      ],
      "metadata": {
        "colab": {
          "base_uri": "https://localhost:8080/",
          "height": 302
        },
        "id": "g-GHuDc3x8pp",
        "outputId": "ed409599-5494-4c7d-9813-d2c560e49ea8"
      },
      "execution_count": 524,
      "outputs": [
        {
          "output_type": "execute_result",
          "data": {
            "text/plain": [
              "<matplotlib.axes._subplots.AxesSubplot at 0x7f559a9512d0>"
            ]
          },
          "metadata": {},
          "execution_count": 524
        },
        {
          "output_type": "display_data",
          "data": {
            "text/plain": [
              "<Figure size 432x288 with 1 Axes>"
            ],
            "image/png": "[encoded data removed]"
          },
          "metadata": {}
        }
      ]
    },
    {
      "cell_type": "code",
      "source": [
        "sns.boxplot(y = 'Vintage', data = te_df,palette='Accent')"
      ],
      "metadata": {
        "colab": {
          "base_uri": "https://localhost:8080/",
          "height": 268
        },
        "id": "YHu8SiyhyELo",
        "outputId": "7d5d7569-042d-4a59-da7e-7a37db826526"
      },
      "execution_count": 525,
      "outputs": [
        {
          "output_type": "execute_result",
          "data": {
            "text/plain": [
              "<matplotlib.axes._subplots.AxesSubplot at 0x7f559d956110>"
            ]
          },
          "metadata": {},
          "execution_count": 525
        },
        {
          "output_type": "display_data",
          "data": {
            "text/plain": [
              "<Figure size 432x288 with 1 Axes>"
            ],
            "image/png": "[encoded data removed]"
          },
          "metadata": {}
        }
      ]
    },
    {
      "cell_type": "code",
      "source": [
        "# Sekarang Kita masuk ke data Pre Processing\n",
        "# Dari data numerik yang kita miliki (Age, Vintage, dan Annual Premium) hanya Annual Premium yang memiliki penyimpangan\n",
        "# Yang pertama kita melakukan standarisasi ke Premi Tahunan karena terdapat beberapa outlier pada data ini, terlihat dari box plot Premi tahunan di atas\n",
        "from sklearn.preprocessing import LabelEncoder, StandardScaler, MinMaxScaler, RobustScaler\n",
        "ss = StandardScaler()\n",
        "num_feat = ['Age','Vintage']\n",
        "tr_df[num_feat] = ss.fit_transform(tr_df[num_feat])\n",
        "te_df[num_feat] = ss.fit_transform(te_df[num_feat])\n",
        "\n",
        "mm = MinMaxScaler()\n",
        "tr_df[['Annual_Premium']] = mm.fit_transform(tr_df[['Annual_Premium']])\n",
        "te_df[['Annual_Premium']] = mm.fit_transform(te_df[['Annual_Premium']])"
      ],
      "metadata": {
        "id": "mIU44K3ov4jJ"
      },
      "execution_count": 526,
      "outputs": []
    },
    {
      "cell_type": "code",
      "source": [
        "#Melihat Korelasi Dari Tabel\n",
        "corr = tr_df.corr()\n",
        "corr.style.background_gradient(cmap='coolwarm').set_precision(2)"
      ],
      "metadata": {
        "colab": {
          "base_uri": "https://localhost:8080/",
          "height": 300
        },
        "id": "SLZvCulEUEA5",
        "outputId": "68093a47-0e9c-4c0d-c97f-0921b110de3c"
      },
      "execution_count": 527,
      "outputs": [
        {
          "output_type": "execute_result",
          "data": {
            "text/plain": [
              "<pandas.io.formats.style.Styler at 0x7f559f0cb250>"
            ],
            "text/html": [
              "<style type=\"text/css\">\n",
              "#T_0ca7e_row0_col0, #T_0ca7e_row1_col1, #T_0ca7e_row2_col2, #T_0ca7e_row3_col3, #T_0ca7e_row4_col4, #T_0ca7e_row5_col5, #T_0ca7e_row6_col6, #T_0ca7e_row7_col7 {\n",
              "  background-color: #b40426;\n",
              "  color: #f1f1f1;\n",
              "}\n",
              "#T_0ca7e_row0_col1, #T_0ca7e_row0_col5, #T_0ca7e_row0_col6, #T_0ca7e_row1_col6, #T_0ca7e_row2_col6, #T_0ca7e_row3_col7, #T_0ca7e_row4_col6, #T_0ca7e_row5_col0, #T_0ca7e_row5_col2, #T_0ca7e_row5_col4, #T_0ca7e_row5_col6, #T_0ca7e_row7_col3, #T_0ca7e_row7_col6 {\n",
              "  background-color: #3b4cc0;\n",
              "  color: #f1f1f1;\n",
              "}\n",
              "#T_0ca7e_row0_col2 {\n",
              "  background-color: #536edd;\n",
              "  color: #f1f1f1;\n",
              "}\n",
              "#T_0ca7e_row0_col3, #T_0ca7e_row4_col1 {\n",
              "  background-color: #4e68d8;\n",
              "  color: #f1f1f1;\n",
              "}\n",
              "#T_0ca7e_row0_col4 {\n",
              "  background-color: #6e90f2;\n",
              "  color: #f1f1f1;\n",
              "}\n",
              "#T_0ca7e_row0_col7, #T_0ca7e_row2_col5 {\n",
              "  background-color: #abc8fd;\n",
              "  color: #000000;\n",
              "}\n",
              "#T_0ca7e_row1_col0 {\n",
              "  background-color: #a3c2fe;\n",
              "  color: #000000;\n",
              "}\n",
              "#T_0ca7e_row1_col2 {\n",
              "  background-color: #465ecf;\n",
              "  color: #f1f1f1;\n",
              "}\n",
              "#T_0ca7e_row1_col3, #T_0ca7e_row1_col7, #T_0ca7e_row2_col7 {\n",
              "  background-color: #92b4fe;\n",
              "  color: #000000;\n",
              "}\n",
              "#T_0ca7e_row1_col4, #T_0ca7e_row2_col4 {\n",
              "  background-color: #5673e0;\n",
              "  color: #f1f1f1;\n",
              "}\n",
              "#T_0ca7e_row1_col5, #T_0ca7e_row2_col0 {\n",
              "  background-color: #bed2f6;\n",
              "  color: #000000;\n",
              "}\n",
              "#T_0ca7e_row2_col1, #T_0ca7e_row6_col1 {\n",
              "  background-color: #506bda;\n",
              "  color: #f1f1f1;\n",
              "}\n",
              "#T_0ca7e_row2_col3 {\n",
              "  background-color: #88abfd;\n",
              "  color: #000000;\n",
              "}\n",
              "#T_0ca7e_row3_col0 {\n",
              "  background-color: #7da0f9;\n",
              "  color: #f1f1f1;\n",
              "}\n",
              "#T_0ca7e_row3_col1 {\n",
              "  background-color: #5572df;\n",
              "  color: #f1f1f1;\n",
              "}\n",
              "#T_0ca7e_row3_col2 {\n",
              "  background-color: #3f53c6;\n",
              "  color: #f1f1f1;\n",
              "}\n",
              "#T_0ca7e_row3_col4 {\n",
              "  background-color: #5b7ae5;\n",
              "  color: #f1f1f1;\n",
              "}\n",
              "#T_0ca7e_row3_col5 {\n",
              "  background-color: #dedcdb;\n",
              "  color: #000000;\n",
              "}\n",
              "#T_0ca7e_row3_col6 {\n",
              "  background-color: #3c4ec2;\n",
              "  color: #f1f1f1;\n",
              "}\n",
              "#T_0ca7e_row4_col0 {\n",
              "  background-color: #c3d5f4;\n",
              "  color: #000000;\n",
              "}\n",
              "#T_0ca7e_row4_col2 {\n",
              "  background-color: #4358cb;\n",
              "  color: #f1f1f1;\n",
              "}\n",
              "#T_0ca7e_row4_col3, #T_0ca7e_row6_col3 {\n",
              "  background-color: #8fb1fe;\n",
              "  color: #000000;\n",
              "}\n",
              "#T_0ca7e_row4_col5 {\n",
              "  background-color: #9dbdff;\n",
              "  color: #000000;\n",
              "}\n",
              "#T_0ca7e_row4_col7 {\n",
              "  background-color: #94b6ff;\n",
              "  color: #000000;\n",
              "}\n",
              "#T_0ca7e_row5_col1 {\n",
              "  background-color: #5e7de7;\n",
              "  color: #f1f1f1;\n",
              "}\n",
              "#T_0ca7e_row5_col3 {\n",
              "  background-color: #c5d6f2;\n",
              "  color: #000000;\n",
              "}\n",
              "#T_0ca7e_row5_col7 {\n",
              "  background-color: #6a8bef;\n",
              "  color: #f1f1f1;\n",
              "}\n",
              "#T_0ca7e_row6_col0, #T_0ca7e_row6_col5 {\n",
              "  background-color: #b5cdfa;\n",
              "  color: #000000;\n",
              "}\n",
              "#T_0ca7e_row6_col2 {\n",
              "  background-color: #455cce;\n",
              "  color: #f1f1f1;\n",
              "}\n",
              "#T_0ca7e_row6_col4 {\n",
              "  background-color: #5977e3;\n",
              "  color: #f1f1f1;\n",
              "}\n",
              "#T_0ca7e_row6_col7 {\n",
              "  background-color: #8db0fe;\n",
              "  color: #000000;\n",
              "}\n",
              "#T_0ca7e_row7_col0 {\n",
              "  background-color: #cbd8ee;\n",
              "  color: #000000;\n",
              "}\n",
              "#T_0ca7e_row7_col1 {\n",
              "  background-color: #5470de;\n",
              "  color: #f1f1f1;\n",
              "}\n",
              "#T_0ca7e_row7_col2 {\n",
              "  background-color: #4a63d3;\n",
              "  color: #f1f1f1;\n",
              "}\n",
              "#T_0ca7e_row7_col4 {\n",
              "  background-color: #6180e9;\n",
              "  color: #f1f1f1;\n",
              "}\n",
              "#T_0ca7e_row7_col5 {\n",
              "  background-color: #97b8ff;\n",
              "  color: #000000;\n",
              "}\n",
              "</style>\n",
              "<table id=\"T_0ca7e_\" class=\"dataframe\">\n",
              "  <thead>\n",
              "    <tr>\n",
              "      <th class=\"blank level0\" >&nbsp;</th>\n",
              "      <th class=\"col_heading level0 col0\" >Age</th>\n",
              "      <th class=\"col_heading level0 col1\" >Driving_License</th>\n",
              "      <th class=\"col_heading level0 col2\" >Region_Code</th>\n",
              "      <th class=\"col_heading level0 col3\" >Previously_Insured</th>\n",
              "      <th class=\"col_heading level0 col4\" >Annual_Premium</th>\n",
              "      <th class=\"col_heading level0 col5\" >Policy_Sales_Channel</th>\n",
              "      <th class=\"col_heading level0 col6\" >Vintage</th>\n",
              "      <th class=\"col_heading level0 col7\" >Response</th>\n",
              "    </tr>\n",
              "  </thead>\n",
              "  <tbody>\n",
              "    <tr>\n",
              "      <th id=\"T_0ca7e_level0_row0\" class=\"row_heading level0 row0\" >Age</th>\n",
              "      <td id=\"T_0ca7e_row0_col0\" class=\"data row0 col0\" >1.00</td>\n",
              "      <td id=\"T_0ca7e_row0_col1\" class=\"data row0 col1\" >-0.08</td>\n",
              "      <td id=\"T_0ca7e_row0_col2\" class=\"data row0 col2\" >0.04</td>\n",
              "      <td id=\"T_0ca7e_row0_col3\" class=\"data row0 col3\" >-0.25</td>\n",
              "      <td id=\"T_0ca7e_row0_col4\" class=\"data row0 col4\" >0.07</td>\n",
              "      <td id=\"T_0ca7e_row0_col5\" class=\"data row0 col5\" >-0.58</td>\n",
              "      <td id=\"T_0ca7e_row0_col6\" class=\"data row0 col6\" >-0.00</td>\n",
              "      <td id=\"T_0ca7e_row0_col7\" class=\"data row0 col7\" >0.11</td>\n",
              "    </tr>\n",
              "    <tr>\n",
              "      <th id=\"T_0ca7e_level0_row1\" class=\"row_heading level0 row1\" >Driving_License</th>\n",
              "      <td id=\"T_0ca7e_row1_col0\" class=\"data row1 col0\" >-0.08</td>\n",
              "      <td id=\"T_0ca7e_row1_col1\" class=\"data row1 col1\" >1.00</td>\n",
              "      <td id=\"T_0ca7e_row1_col2\" class=\"data row1 col2\" >-0.00</td>\n",
              "      <td id=\"T_0ca7e_row1_col3\" class=\"data row1 col3\" >0.01</td>\n",
              "      <td id=\"T_0ca7e_row1_col4\" class=\"data row1 col4\" >-0.01</td>\n",
              "      <td id=\"T_0ca7e_row1_col5\" class=\"data row1 col5\" >0.04</td>\n",
              "      <td id=\"T_0ca7e_row1_col6\" class=\"data row1 col6\" >-0.00</td>\n",
              "      <td id=\"T_0ca7e_row1_col7\" class=\"data row1 col7\" >0.01</td>\n",
              "    </tr>\n",
              "    <tr>\n",
              "      <th id=\"T_0ca7e_level0_row2\" class=\"row_heading level0 row2\" >Region_Code</th>\n",
              "      <td id=\"T_0ca7e_row2_col0\" class=\"data row2 col0\" >0.04</td>\n",
              "      <td id=\"T_0ca7e_row2_col1\" class=\"data row2 col1\" >-0.00</td>\n",
              "      <td id=\"T_0ca7e_row2_col2\" class=\"data row2 col2\" >1.00</td>\n",
              "      <td id=\"T_0ca7e_row2_col3\" class=\"data row2 col3\" >-0.02</td>\n",
              "      <td id=\"T_0ca7e_row2_col4\" class=\"data row2 col4\" >-0.01</td>\n",
              "      <td id=\"T_0ca7e_row2_col5\" class=\"data row2 col5\" >-0.04</td>\n",
              "      <td id=\"T_0ca7e_row2_col6\" class=\"data row2 col6\" >-0.00</td>\n",
              "      <td id=\"T_0ca7e_row2_col7\" class=\"data row2 col7\" >0.01</td>\n",
              "    </tr>\n",
              "    <tr>\n",
              "      <th id=\"T_0ca7e_level0_row3\" class=\"row_heading level0 row3\" >Previously_Insured</th>\n",
              "      <td id=\"T_0ca7e_row3_col0\" class=\"data row3 col0\" >-0.25</td>\n",
              "      <td id=\"T_0ca7e_row3_col1\" class=\"data row3 col1\" >0.01</td>\n",
              "      <td id=\"T_0ca7e_row3_col2\" class=\"data row3 col2\" >-0.02</td>\n",
              "      <td id=\"T_0ca7e_row3_col3\" class=\"data row3 col3\" >1.00</td>\n",
              "      <td id=\"T_0ca7e_row3_col4\" class=\"data row3 col4\" >0.00</td>\n",
              "      <td id=\"T_0ca7e_row3_col5\" class=\"data row3 col5\" >0.22</td>\n",
              "      <td id=\"T_0ca7e_row3_col6\" class=\"data row3 col6\" >0.00</td>\n",
              "      <td id=\"T_0ca7e_row3_col7\" class=\"data row3 col7\" >-0.34</td>\n",
              "    </tr>\n",
              "    <tr>\n",
              "      <th id=\"T_0ca7e_level0_row4\" class=\"row_heading level0 row4\" >Annual_Premium</th>\n",
              "      <td id=\"T_0ca7e_row4_col0\" class=\"data row4 col0\" >0.07</td>\n",
              "      <td id=\"T_0ca7e_row4_col1\" class=\"data row4 col1\" >-0.01</td>\n",
              "      <td id=\"T_0ca7e_row4_col2\" class=\"data row4 col2\" >-0.01</td>\n",
              "      <td id=\"T_0ca7e_row4_col3\" class=\"data row4 col3\" >0.00</td>\n",
              "      <td id=\"T_0ca7e_row4_col4\" class=\"data row4 col4\" >1.00</td>\n",
              "      <td id=\"T_0ca7e_row4_col5\" class=\"data row4 col5\" >-0.11</td>\n",
              "      <td id=\"T_0ca7e_row4_col6\" class=\"data row4 col6\" >-0.00</td>\n",
              "      <td id=\"T_0ca7e_row4_col7\" class=\"data row4 col7\" >0.02</td>\n",
              "    </tr>\n",
              "    <tr>\n",
              "      <th id=\"T_0ca7e_level0_row5\" class=\"row_heading level0 row5\" >Policy_Sales_Channel</th>\n",
              "      <td id=\"T_0ca7e_row5_col0\" class=\"data row5 col0\" >-0.58</td>\n",
              "      <td id=\"T_0ca7e_row5_col1\" class=\"data row5 col1\" >0.04</td>\n",
              "      <td id=\"T_0ca7e_row5_col2\" class=\"data row5 col2\" >-0.04</td>\n",
              "      <td id=\"T_0ca7e_row5_col3\" class=\"data row5 col3\" >0.22</td>\n",
              "      <td id=\"T_0ca7e_row5_col4\" class=\"data row5 col4\" >-0.11</td>\n",
              "      <td id=\"T_0ca7e_row5_col5\" class=\"data row5 col5\" >1.00</td>\n",
              "      <td id=\"T_0ca7e_row5_col6\" class=\"data row5 col6\" >0.00</td>\n",
              "      <td id=\"T_0ca7e_row5_col7\" class=\"data row5 col7\" >-0.14</td>\n",
              "    </tr>\n",
              "    <tr>\n",
              "      <th id=\"T_0ca7e_level0_row6\" class=\"row_heading level0 row6\" >Vintage</th>\n",
              "      <td id=\"T_0ca7e_row6_col0\" class=\"data row6 col0\" >-0.00</td>\n",
              "      <td id=\"T_0ca7e_row6_col1\" class=\"data row6 col1\" >-0.00</td>\n",
              "      <td id=\"T_0ca7e_row6_col2\" class=\"data row6 col2\" >-0.00</td>\n",
              "      <td id=\"T_0ca7e_row6_col3\" class=\"data row6 col3\" >0.00</td>\n",
              "      <td id=\"T_0ca7e_row6_col4\" class=\"data row6 col4\" >-0.00</td>\n",
              "      <td id=\"T_0ca7e_row6_col5\" class=\"data row6 col5\" >0.00</td>\n",
              "      <td id=\"T_0ca7e_row6_col6\" class=\"data row6 col6\" >1.00</td>\n",
              "      <td id=\"T_0ca7e_row6_col7\" class=\"data row6 col7\" >-0.00</td>\n",
              "    </tr>\n",
              "    <tr>\n",
              "      <th id=\"T_0ca7e_level0_row7\" class=\"row_heading level0 row7\" >Response</th>\n",
              "      <td id=\"T_0ca7e_row7_col0\" class=\"data row7 col0\" >0.11</td>\n",
              "      <td id=\"T_0ca7e_row7_col1\" class=\"data row7 col1\" >0.01</td>\n",
              "      <td id=\"T_0ca7e_row7_col2\" class=\"data row7 col2\" >0.01</td>\n",
              "      <td id=\"T_0ca7e_row7_col3\" class=\"data row7 col3\" >-0.34</td>\n",
              "      <td id=\"T_0ca7e_row7_col4\" class=\"data row7 col4\" >0.02</td>\n",
              "      <td id=\"T_0ca7e_row7_col5\" class=\"data row7 col5\" >-0.14</td>\n",
              "      <td id=\"T_0ca7e_row7_col6\" class=\"data row7 col6\" >-0.00</td>\n",
              "      <td id=\"T_0ca7e_row7_col7\" class=\"data row7 col7\" >1.00</td>\n",
              "    </tr>\n",
              "  </tbody>\n",
              "</table>\n"
            ]
          },
          "metadata": {},
          "execution_count": 527
        }
      ]
    },
    {
      "cell_type": "code",
      "source": [
        "#Hubungan Tiap Gender dengan Response\n",
        "plt.figure(figsize=(50,15))\n",
        "plt.subplot(2,3,1)\n",
        "sns.countplot(x=\"Gender\" ,hue='Response', data=tr_df ,palette='coolwarm_r')\n",
        "plt.xlabel(\"Gender\", fontsize=20)\n",
        "plt.legend((\"0: Tidak Ikut Asuransi\", \"1: Ikut Asuransi\"),loc='upper left')"
      ],
      "metadata": {
        "colab": {
          "base_uri": "https://localhost:8080/",
          "height": 461
        },
        "id": "_6QPZM4oWLxS",
        "outputId": "ecc2f189-36b8-4bf2-9c22-4f73880b45c9"
      },
      "execution_count": 528,
      "outputs": [
        {
          "output_type": "execute_result",
          "data": {
            "text/plain": [
              "<matplotlib.legend.Legend at 0x7f55784e3750>"
            ]
          },
          "metadata": {},
          "execution_count": 528
        },
        {
          "output_type": "display_data",
          "data": {
            "text/plain": [
              "<Figure size 3600x1080 with 1 Axes>"
            ],
            "image/png": "[encoded data removed]"
          },
          "metadata": {}
        }
      ]
    },
    {
      "cell_type": "code",
      "source": [
        "#Hubungan Pemilikan SIM dengan Response\n",
        "plt.figure(figsize=(50,15))\n",
        "plt.subplot(2,3,1)\n",
        "sns.countplot(x=\"Driving_License\" ,hue='Response', data=tr_df ,palette='coolwarm_r')\n",
        "plt.xlabel(\"Driving_License\", fontsize=20)\n",
        "plt.legend((\"0: Tidak Ikut Asuransi\", \"1: Ikut Asuransi\"),loc='upper left')"
      ],
      "metadata": {
        "colab": {
          "base_uri": "https://localhost:8080/",
          "height": 466
        },
        "id": "TzeVgg1zWShz",
        "outputId": "62c7d4f3-d085-41d4-d013-5a6a4d97d97b"
      },
      "execution_count": 529,
      "outputs": [
        {
          "output_type": "execute_result",
          "data": {
            "text/plain": [
              "<matplotlib.legend.Legend at 0x7f559d31b6d0>"
            ]
          },
          "metadata": {},
          "execution_count": 529
        },
        {
          "output_type": "display_data",
          "data": {
            "text/plain": [
              "<Figure size 3600x1080 with 1 Axes>"
            ],
            "image/png": "[encoded data removed]"
          },
          "metadata": {}
        }
      ]
    },
    {
      "cell_type": "code",
      "source": [
        "#Hubungan Yang Sudah Ikut Asuransi dengan Response\n",
        "plt.figure(figsize=(50,15))\n",
        "plt.subplot(2,3,1)\n",
        "sns.countplot(x=\"Previously_Insured\" ,hue='Response', data=tr_df ,palette='coolwarm_r')\n",
        "plt.xlabel(\"Previously_Insured\", fontsize=20)\n",
        "plt.legend((\"0: Tidak Ikut Asuransi\", \"1: Ikut Asuransi\"),loc='upper left')"
      ],
      "metadata": {
        "colab": {
          "base_uri": "https://localhost:8080/",
          "height": 462
        },
        "id": "Ob3txl4aVXXW",
        "outputId": "c0c627ae-0706-45c1-cc7e-c36f77913fd7"
      },
      "execution_count": 530,
      "outputs": [
        {
          "output_type": "execute_result",
          "data": {
            "text/plain": [
              "<matplotlib.legend.Legend at 0x7f559dd3ffd0>"
            ]
          },
          "metadata": {},
          "execution_count": 530
        },
        {
          "output_type": "display_data",
          "data": {
            "text/plain": [
              "<Figure size 3600x1080 with 1 Axes>"
            ],
            "image/png": "[encoded data removed]"
          },
          "metadata": {}
        }
      ]
    },
    {
      "cell_type": "code",
      "source": [
        "#Hubungan Kerusakan Kendaraan dengan Response\n",
        "plt.figure(figsize=(50,15))\n",
        "plt.subplot(2,3,1)\n",
        "sns.countplot(x=\"Vehicle_Damage\" ,hue='Response', data=tr_df ,palette='coolwarm_r')\n",
        "plt.xlabel(\"Vehicle_Damage\", fontsize=20)\n",
        "plt.legend((\"0: Tidak Ikut Asuransi\", \"1: Ikut Asuransi\"),loc='upper left')"
      ],
      "metadata": {
        "colab": {
          "base_uri": "https://localhost:8080/",
          "height": 462
        },
        "id": "wh96eycMXFXy",
        "outputId": "3162e425-8cf4-4e5f-9d69-4d820a441673"
      },
      "execution_count": 531,
      "outputs": [
        {
          "output_type": "execute_result",
          "data": {
            "text/plain": [
              "<matplotlib.legend.Legend at 0x7f559de7b390>"
            ]
          },
          "metadata": {},
          "execution_count": 531
        },
        {
          "output_type": "display_data",
          "data": {
            "text/plain": [
              "<Figure size 3600x1080 with 1 Axes>"
            ],
            "image/png": "[encoded data removed]"
          },
          "metadata": {}
        }
      ]
    },
    {
      "cell_type": "code",
      "source": [
        "#Hubungan Umur Kendaraan dengan Response\n",
        "plt.figure(figsize=(50,15))\n",
        "plt.subplot(2,3,1)\n",
        "sns.countplot(x=\"Vehicle_Age\" ,hue='Response', data=tr_df ,palette='coolwarm_r')\n",
        "plt.xlabel(\"Vehicle_Age\", fontsize=20)\n",
        "plt.legend((\"0: Tidak Ikut Asuransi\", \"1: Ikut Asuransi\"),loc='upper left')"
      ],
      "metadata": {
        "colab": {
          "base_uri": "https://localhost:8080/",
          "height": 462
        },
        "id": "3scSOtT5Y3fi",
        "outputId": "3e9951ef-b85c-4fcb-fbae-67353e39b14b"
      },
      "execution_count": 532,
      "outputs": [
        {
          "output_type": "execute_result",
          "data": {
            "text/plain": [
              "<matplotlib.legend.Legend at 0x7f559cc9be50>"
            ]
          },
          "metadata": {},
          "execution_count": 532
        },
        {
          "output_type": "display_data",
          "data": {
            "text/plain": [
              "<Figure size 3600x1080 with 1 Axes>"
            ],
            "image/png": "[encoded data removed]"
          },
          "metadata": {}
        }
      ]
    },
    {
      "cell_type": "code",
      "source": [
        "# Setelah data kita preprocessing, kita lihat kembali informasinya\n",
        "print(tr_df.info())\n",
        "print(te_df.info())"
      ],
      "metadata": {
        "colab": {
          "base_uri": "https://localhost:8080/"
        },
        "id": "693AibL-c6SS",
        "outputId": "9cfdab98-7de7-4627-9984-7e8f1f1062e8"
      },
      "execution_count": 533,
      "outputs": [
        {
          "output_type": "stream",
          "name": "stdout",
          "text": [
            "<class 'pandas.core.frame.DataFrame'>\n",
            "Int64Index: 381109 entries, 1 to 381109\n",
            "Data columns (total 11 columns):\n",
            " #   Column                Non-Null Count   Dtype  \n",
            "---  ------                --------------   -----  \n",
            " 0   Gender                381109 non-null  object \n",
            " 1   Age                   381109 non-null  float64\n",
            " 2   Driving_License       381109 non-null  int64  \n",
            " 3   Region_Code           381109 non-null  float64\n",
            " 4   Previously_Insured    381109 non-null  int64  \n",
            " 5   Vehicle_Age           381109 non-null  object \n",
            " 6   Vehicle_Damage        381109 non-null  object \n",
            " 7   Annual_Premium        381109 non-null  float64\n",
            " 8   Policy_Sales_Channel  381109 non-null  float64\n",
            " 9   Vintage               381109 non-null  float64\n",
            " 10  Response              381109 non-null  int64  \n",
            "dtypes: float64(5), int64(3), object(3)\n",
            "memory usage: 43.0+ MB\n",
            "None\n",
            "<class 'pandas.core.frame.DataFrame'>\n",
            "Int64Index: 127037 entries, 381110 to 508146\n",
            "Data columns (total 11 columns):\n",
            " #   Column                Non-Null Count   Dtype  \n",
            "---  ------                --------------   -----  \n",
            " 0   Gender                127037 non-null  object \n",
            " 1   Age                   127037 non-null  float64\n",
            " 2   Driving_License       127037 non-null  int64  \n",
            " 3   Region_Code           127037 non-null  float64\n",
            " 4   Previously_Insured    127037 non-null  int64  \n",
            " 5   Vehicle_Age           127037 non-null  object \n",
            " 6   Vehicle_Damage        127037 non-null  object \n",
            " 7   Annual_Premium        127037 non-null  float64\n",
            " 8   Policy_Sales_Channel  127037 non-null  float64\n",
            " 9   Vintage               127037 non-null  float64\n",
            " 10  Response              0 non-null       float64\n",
            "dtypes: float64(6), int64(2), object(3)\n",
            "memory usage: 11.6+ MB\n",
            "None\n"
          ]
        }
      ]
    },
    {
      "cell_type": "code",
      "source": [
        "# Sekarang kita akan mengubah Variabel yang sifatnya Object dan Kategorik kedalam bentuk Integer\n",
        "#lable encoding\n",
        "\n",
        "#one hot encoding\n",
        "cols = ['Gender', 'Vehicle_Age','Vehicle_Damage']\n",
        "# Apply one-hot encoder\n",
        "OH_encoder = OneHotEncoder(handle_unknown='ignore', sparse=False)\n",
        "tr_oh = pd.DataFrame(OH_encoder.fit_transform(tr_df[cols])).astype('int64')\n",
        "te_oh = pd.DataFrame(OH_encoder.fit_transform(te_df[cols])).astype('int64')\n",
        "\n",
        "\n",
        "#get feature columns\n",
        "tr_oh.columns = OH_encoder.get_feature_names(cols)\n",
        "te_oh.columns = OH_encoder.get_feature_names(cols)\n",
        "\n",
        "# One-hot encoding removed index; put it back\n",
        "tr_oh.index = tr_df.index\n",
        "te_oh.index = te_df.index\n",
        "\n",
        "# Add one-hot encoded columns to our main df new name: tr_fe, te_fe (means feature engeenired) \n",
        "tr_fe = pd.concat([tr_df, tr_oh], axis=1)\n",
        "te_fe = pd.concat([te_df, te_oh], axis=1)\n",
        "\n",
        "tr_fe = tr_fe.drop(cols, axis = 1)\n",
        "te_fe = te_fe.drop(cols, axis = 1)\n",
        "\n",
        "print(tr_fe.info())\n",
        "print(te_fe.info())"
      ],
      "metadata": {
        "colab": {
          "base_uri": "https://localhost:8080/"
        },
        "id": "q6T7kEFafC3s",
        "outputId": "6af238d6-4e5f-4874-e539-23e5de1222e0"
      },
      "execution_count": 534,
      "outputs": [
        {
          "output_type": "stream",
          "name": "stdout",
          "text": [
            "<class 'pandas.core.frame.DataFrame'>\n",
            "Int64Index: 381109 entries, 1 to 381109\n",
            "Data columns (total 15 columns):\n",
            " #   Column                 Non-Null Count   Dtype  \n",
            "---  ------                 --------------   -----  \n",
            " 0   Age                    381109 non-null  float64\n",
            " 1   Driving_License        381109 non-null  int64  \n",
            " 2   Region_Code            381109 non-null  float64\n",
            " 3   Previously_Insured     381109 non-null  int64  \n",
            " 4   Annual_Premium         381109 non-null  float64\n",
            " 5   Policy_Sales_Channel   381109 non-null  float64\n",
            " 6   Vintage                381109 non-null  float64\n",
            " 7   Response               381109 non-null  int64  \n",
            " 8   Gender_Female          381109 non-null  int64  \n",
            " 9   Gender_Male            381109 non-null  int64  \n",
            " 10  Vehicle_Age_1-2 Year   381109 non-null  int64  \n",
            " 11  Vehicle_Age_< 1 Year   381109 non-null  int64  \n",
            " 12  Vehicle_Age_> 2 Years  381109 non-null  int64  \n",
            " 13  Vehicle_Damage_No      381109 non-null  int64  \n",
            " 14  Vehicle_Damage_Yes     381109 non-null  int64  \n",
            "dtypes: float64(5), int64(10)\n",
            "memory usage: 54.6 MB\n",
            "None\n",
            "<class 'pandas.core.frame.DataFrame'>\n",
            "Int64Index: 127037 entries, 381110 to 508146\n",
            "Data columns (total 15 columns):\n",
            " #   Column                 Non-Null Count   Dtype  \n",
            "---  ------                 --------------   -----  \n",
            " 0   Age                    127037 non-null  float64\n",
            " 1   Driving_License        127037 non-null  int64  \n",
            " 2   Region_Code            127037 non-null  float64\n",
            " 3   Previously_Insured     127037 non-null  int64  \n",
            " 4   Annual_Premium         127037 non-null  float64\n",
            " 5   Policy_Sales_Channel   127037 non-null  float64\n",
            " 6   Vintage                127037 non-null  float64\n",
            " 7   Response               0 non-null       float64\n",
            " 8   Gender_Female          127037 non-null  int64  \n",
            " 9   Gender_Male            127037 non-null  int64  \n",
            " 10  Vehicle_Age_1-2 Year   127037 non-null  int64  \n",
            " 11  Vehicle_Age_< 1 Year   127037 non-null  int64  \n",
            " 12  Vehicle_Age_> 2 Years  127037 non-null  int64  \n",
            " 13  Vehicle_Damage_No      127037 non-null  int64  \n",
            " 14  Vehicle_Damage_Yes     127037 non-null  int64  \n",
            "dtypes: float64(6), int64(9)\n",
            "memory usage: 15.5 MB\n",
            "None\n"
          ]
        }
      ]
    },
    {
      "cell_type": "code",
      "source": [
        "# Menerapkan Model Machine Learning\n",
        "y = tr_fe['Response']\n",
        "X = tr_fe.drop('Response', axis = 1)\n",
        "X_train, X_test, y_train, y_test = train_test_split(X, y, test_size = 0.75, random_state = 101)"
      ],
      "metadata": {
        "id": "TBEIA5LUfs7N"
      },
      "execution_count": 535,
      "outputs": []
    },
    {
      "cell_type": "code",
      "source": [
        "def cross_val(model_name,model,X,y,cv):\n",
        "    \n",
        "    scores = CVS(model, X, y, cv=cv)\n",
        "    print(f'{model_name} Scores:')\n",
        "    for i in scores:\n",
        "        print(round(i,2))\n",
        "    print(f'Average {model_name} score: {round(scores.mean(),4)}')\n",
        "\n",
        "index = ['Valid1','Valid2','Valid3','Valid4','Valid5']\n",
        "scoring = ['accuracy','precision', 'recall','f1']"
      ],
      "metadata": {
        "id": "zpF9LjKEf7jV"
      },
      "execution_count": 536,
      "outputs": []
    },
    {
      "cell_type": "code",
      "source": [
        "#model 2 Dengan Regresi Logistik\n",
        "LR = LogisticRegression()\n",
        "#cross validation\n",
        "LR_report = pd.DataFrame(cross_validate(LR, X, y, scoring=scoring))\n",
        "#getting required score methods\n",
        "LR_report = LR_report.iloc[:,2:]\n",
        "#naming the columns\n",
        "LR_report.columns = scoring\n",
        "#naming the index\n",
        "LR_report.index = index\n",
        "\n",
        "#final result collection\n",
        "model_2 = []\n",
        "\n",
        "#Classification report\n",
        "print(\"Clasification report:\\n\")\n",
        "print(LR_report,\"\\n\\n\")\n",
        "print(\"Mean Scores:\\n\")\n",
        "for score in scoring:\n",
        "    print(f\"\\t{score}: {round(LR_report[score].mean(),4)}\")\n",
        "    model_2.append(round(LR_report[score].mean(),4))"
      ],
      "metadata": {
        "colab": {
          "base_uri": "https://localhost:8080/"
        },
        "id": "G_KyTez1gG5D",
        "outputId": "fcb1ef83-6a37-41ea-a8a2-edf2098507b9"
      },
      "execution_count": 537,
      "outputs": [
        {
          "output_type": "stream",
          "name": "stdout",
          "text": [
            "Clasification report:\n",
            "\n",
            "        accuracy  precision    recall        f1\n",
            "Valid1  0.877266   0.066667  0.000107  0.000214\n",
            "Valid2  0.877175   0.045455  0.000107  0.000214\n",
            "Valid3  0.877214   0.000000  0.000000  0.000000\n",
            "Valid4  0.876965   0.108696  0.000535  0.001065\n",
            "Valid5  0.877160   0.137931  0.000428  0.000854 \n",
            "\n",
            "\n",
            "Mean Scores:\n",
            "\n",
            "\taccuracy: 0.8772\n",
            "\tprecision: 0.0717\n",
            "\trecall: 0.0002\n",
            "\tf1: 0.0005\n"
          ]
        }
      ]
    },
    {
      "cell_type": "code",
      "source": [
        "#model\n",
        "RF = RandomForestClassifier()\n",
        "#cross validation\n",
        "RF_report = pd.DataFrame(cross_validate(RF, X, y, scoring=scoring))\n",
        "#getting required score methods\n",
        "RF_report = RF_report.iloc[:,2:]\n",
        "#naming the columns\n",
        "RF_report.columns = scoring\n",
        "#naming the index\n",
        "RF_report.index = index\n",
        "\n",
        "#final result collection\n",
        "model_3 = []\n",
        "\n",
        "#Classification report\n",
        "print(\"Clasification report:\\n\")\n",
        "print(RF_report,\"\\n\\n\")\n",
        "print(\"Mean Scores:\\n\")\n",
        "for score in scoring:\n",
        "    print(f\"\\t{score}: {round(RF_report[score].mean(),4)}\")\n",
        "    model_3.append(round(RF_report[score].mean(),4))"
      ],
      "metadata": {
        "colab": {
          "base_uri": "https://localhost:8080/"
        },
        "id": "7XqkUpWxgq2O",
        "outputId": "829c08f7-7837-4cd9-835b-2afc9b8fa270"
      },
      "execution_count": 538,
      "outputs": [
        {
          "output_type": "stream",
          "name": "stdout",
          "text": [
            "Clasification report:\n",
            "\n",
            "        accuracy  precision    recall        f1\n",
            "Valid1  0.864567   0.349770  0.122244  0.181169\n",
            "Valid2  0.867112   0.376219  0.128024  0.191039\n",
            "Valid3  0.865721   0.359812  0.122672  0.182965\n",
            "Valid4  0.865984   0.359057  0.119032  0.178793\n",
            "Valid5  0.865470   0.356333  0.121066  0.180729 \n",
            "\n",
            "\n",
            "Mean Scores:\n",
            "\n",
            "\taccuracy: 0.8658\n",
            "\tprecision: 0.3602\n",
            "\trecall: 0.1226\n",
            "\tf1: 0.1829\n"
          ]
        }
      ]
    },
    {
      "cell_type": "code",
      "source": [
        "Models = pd.DataFrame({\n",
        "    'Logistic Regression': np.array(model_2),\n",
        "    'Random Forest': np.array(model_3)})\n",
        "Models.index = scoring\n",
        "Models"
      ],
      "metadata": {
        "colab": {
          "base_uri": "https://localhost:8080/",
          "height": 175
        },
        "id": "x_VAZyKchCje",
        "outputId": "78ebb66d-adf7-444a-8405-6b3d3c723ab9"
      },
      "execution_count": 539,
      "outputs": [
        {
          "output_type": "execute_result",
          "data": {
            "text/plain": [
              "           Logistic Regression  Random Forest\n",
              "accuracy                0.8772         0.8658\n",
              "precision               0.0717         0.3602\n",
              "recall                  0.0002         0.1226\n",
              "f1                      0.0005         0.1829"
            ],
            "text/html": [
              "\n",
              "  <div id=\"df-39b44bb2-0db2-4d38-ad32-5d87e5f86c7a\">\n",
              "    <div class=\"colab-df-container\">\n",
              "      <div>\n",
              "<style scoped>\n",
              "    .dataframe tbody tr th:only-of-type {\n",
              "        vertical-align: middle;\n",
              "    }\n",
              "\n",
              "    .dataframe tbody tr th {\n",
              "        vertical-align: top;\n",
              "    }\n",
              "\n",
              "    .dataframe thead th {\n",
              "        text-align: right;\n",
              "    }\n",
              "</style>\n",
              "<table border=\"1\" class=\"dataframe\">\n",
              "  <thead>\n",
              "    <tr style=\"text-align: right;\">\n",
              "      <th></th>\n",
              "      <th>Logistic Regression</th>\n",
              "      <th>Random Forest</th>\n",
              "    </tr>\n",
              "  </thead>\n",
              "  <tbody>\n",
              "    <tr>\n",
              "      <th>accuracy</th>\n",
              "      <td>0.8772</td>\n",
              "      <td>0.8658</td>\n",
              "    </tr>\n",
              "    <tr>\n",
              "      <th>precision</th>\n",
              "      <td>0.0717</td>\n",
              "      <td>0.3602</td>\n",
              "    </tr>\n",
              "    <tr>\n",
              "      <th>recall</th>\n",
              "      <td>0.0002</td>\n",
              "      <td>0.1226</td>\n",
              "    </tr>\n",
              "    <tr>\n",
              "      <th>f1</th>\n",
              "      <td>0.0005</td>\n",
              "      <td>0.1829</td>\n",
              "    </tr>\n",
              "  </tbody>\n",
              "</table>\n",
              "</div>\n",
              "      <button class=\"colab-df-convert\" onclick=\"convertToInteractive('df-39b44bb2-0db2-4d38-ad32-5d87e5f86c7a')\"\n",
              "              title=\"Convert this dataframe to an interactive table.\"\n",
              "              style=\"display:none;\">\n",
              "        \n",
              "  <svg xmlns=\"http://www.w3.org/2000/svg\" height=\"24px\"viewBox=\"0 0 24 24\"\n",
              "       width=\"24px\">\n",
              "    <path d=\"M0 0h24v24H0V0z\" fill=\"none\"/>\n",
              "    <path d=\"M18.56 5.44l.94 2.06.94-2.06 2.06-.94-2.06-.94-.94-2.06-.94 2.06-2.06.94zm-11 1L8.5 8.5l.94-2.06 2.06-.94-2.06-.94L8.5 2.5l-.94 2.06-2.06.94zm10 10l.94 2.06.94-2.06 2.06-.94-2.06-.94-.94-2.06-.94 2.06-2.06.94z\"/><path d=\"M17.41 7.96l-1.37-1.37c-.4-.4-.92-.59-1.43-.59-.52 0-1.04.2-1.43.59L10.3 9.45l-7.72 7.72c-.78.78-.78 2.05 0 2.83L4 21.41c.39.39.9.59 1.41.59.51 0 1.02-.2 1.41-.59l7.78-7.78 2.81-2.81c.8-.78.8-2.07 0-2.86zM5.41 20L4 18.59l7.72-7.72 1.47 1.35L5.41 20z\"/>\n",
              "  </svg>\n",
              "      </button>\n",
              "      \n",
              "  <style>\n",
              "    .colab-df-container {\n",
              "      display:flex;\n",
              "      flex-wrap:wrap;\n",
              "      gap: 12px;\n",
              "    }\n",
              "\n",
              "    .colab-df-convert {\n",
              "      background-color: #E8F0FE;\n",
              "      border: none;\n",
              "      border-radius: 50%;\n",
              "      cursor: pointer;\n",
              "      display: none;\n",
              "      fill: #1967D2;\n",
              "      height: 32px;\n",
              "      padding: 0 0 0 0;\n",
              "      width: 32px;\n",
              "    }\n",
              "\n",
              "    .colab-df-convert:hover {\n",
              "      background-color: #E2EBFA;\n",
              "      box-shadow: 0px 1px 2px rgba(60, 64, 67, 0.3), 0px 1px 3px 1px rgba(60, 64, 67, 0.15);\n",
              "      fill: #174EA6;\n",
              "    }\n",
              "\n",
              "    [theme=dark] .colab-df-convert {\n",
              "      background-color: #3B4455;\n",
              "      fill: #D2E3FC;\n",
              "    }\n",
              "\n",
              "    [theme=dark] .colab-df-convert:hover {\n",
              "      background-color: #434B5C;\n",
              "      box-shadow: 0px 1px 3px 1px rgba(0, 0, 0, 0.15);\n",
              "      filter: drop-shadow(0px 1px 2px rgba(0, 0, 0, 0.3));\n",
              "      fill: #FFFFFF;\n",
              "    }\n",
              "  </style>\n",
              "\n",
              "      <script>\n",
              "        const buttonEl =\n",
              "          document.querySelector('#df-39b44bb2-0db2-4d38-ad32-5d87e5f86c7a button.colab-df-convert');\n",
              "        buttonEl.style.display =\n",
              "          google.colab.kernel.accessAllowed ? 'block' : 'none';\n",
              "\n",
              "        async function convertToInteractive(key) {\n",
              "          const element = document.querySelector('#df-39b44bb2-0db2-4d38-ad32-5d87e5f86c7a');\n",
              "          const dataTable =\n",
              "            await google.colab.kernel.invokeFunction('convertToInteractive',\n",
              "                                                     [key], {});\n",
              "          if (!dataTable) return;\n",
              "\n",
              "          const docLinkHtml = 'Like what you see? Visit the ' +\n",
              "            '<a target=\"_blank\" href=https://colab.research.google.com/notebooks/data_table.ipynb>data table notebook</a>'\n",
              "            + ' to learn more about interactive tables.';\n",
              "          element.innerHTML = '';\n",
              "          dataTable['output_type'] = 'display_data';\n",
              "          await google.colab.output.renderOutput(dataTable, element);\n",
              "          const docLink = document.createElement('div');\n",
              "          docLink.innerHTML = docLinkHtml;\n",
              "          element.appendChild(docLink);\n",
              "        }\n",
              "      </script>\n",
              "    </div>\n",
              "  </div>\n",
              "  "
            ]
          },
          "metadata": {},
          "execution_count": 539
        }
      ]
    },
    {
      "cell_type": "code",
      "source": [
        "LR.fit(X,y)\n",
        "X_test = te_fe.drop(\"Response\", axis = 1)\n",
        "te_fe[\"Response\"] = LR.predict(X_test)\n",
        "te_fe[\"Response\"] = te_fe[\"Response\"].apply(lambda x: \"will not buy insurance\" if x==0 else \"will buy insurance\")\n",
        "te_fe[\"Response\"].value_counts()"
      ],
      "metadata": {
        "colab": {
          "base_uri": "https://localhost:8080/"
        },
        "id": "DdS9vaGHhaFA",
        "outputId": "85dda02d-846d-4d0c-ed1e-4788b531729d"
      },
      "execution_count": 540,
      "outputs": [
        {
          "output_type": "execute_result",
          "data": {
            "text/plain": [
              "will not buy insurance    126966\n",
              "will buy insurance            71\n",
              "Name: Response, dtype: int64"
            ]
          },
          "metadata": {},
          "execution_count": 540
        }
      ]
    },
    {
      "cell_type": "code",
      "source": [
        "RF.fit(X,y)\n",
        "X_test = te_fe.drop(\"Response\", axis = 1)\n",
        "te_fe[\"Response\"] = RF.predict(X_test)\n",
        "te_fe[\"Response\"] = te_fe[\"Response\"].apply(lambda x: \"will not buy insurance\" if x==0 else \"will buy insurance\")\n",
        "te_fe[\"Response\"].value_counts()"
      ],
      "metadata": {
        "colab": {
          "base_uri": "https://localhost:8080/"
        },
        "id": "D_HpJsLM2ivJ",
        "outputId": "e775f63b-4faa-4e3d-9c95-16242ee5de6c"
      },
      "execution_count": 541,
      "outputs": [
        {
          "output_type": "execute_result",
          "data": {
            "text/plain": [
              "will not buy insurance    121634\n",
              "will buy insurance          5403\n",
              "Name: Response, dtype: int64"
            ]
          },
          "metadata": {},
          "execution_count": 541
        }
      ]
    }
  ]
}